{
 "cells": [
  {
   "cell_type": "markdown",
   "metadata": {},
   "source": [
    "# Optimization in Scipy vs Tensorflow\n",
    "\n",
    "In this notebook, we are going to compare and contrast how one would optimize a function in Scipy and in Tensorflow. Specifically, there are two general problem formulations that we want to solve:\n",
    "\n",
    "1. $\\min\\limits_{x} \\hspace{1ex} f(x) $\n",
    "1. $\\min\\limits_{x} \\hspace{1ex} \\sum\\limits_{i=1}^{N} \\hspace{1ex} g(x,a_{i}) $\n",
    "\n",
    "We will solve the first problem using both methods, and then show how to solve the second problem just with Tensorflow (although you could certainly get Scipy to do the same). \n",
    "\n",
    "Note that in the second case, the optimization problem typically only makes sense if $g$ is a nonnegative function. Furthermore, the second case is equivalent to the first case when \n",
    "\n",
    "$$ f (x) = \\min\\limits_{x} \\hspace{1ex} \\sum\\limits_{i=1}^{N} \\hspace{1ex} g(x,a_{i}) $$ \n",
    "\n",
    "However, the reason to include the second case is that this is the area where Tensorflow really shines... Specifically, when we have a large number of datapoints ($N$ is large), then just computing the cost function $f(x)$ at a single iteration may take very long, or it may even be impossible to fit into memory. In this case, we can have Tensorflow use stochastic gradient descent or one of its cousins (like ADAM) to optimize small chunks of the data at a time. \n",
    "\n",
    "## Problem Statement\n",
    "To make this more concrete, we are going to see how to solve the basic linear regression problem \n",
    "\n",
    "$$ \\min\\limits_{x} \\hspace{1ex} \\sum\\limits_{i=1}^{N} \\hspace{1ex} \\Big[ a_{i} x - b_{i} \\Big]^2 $$\n",
    "\n",
    "in Scipy and Tensorflow. We choose this problem because it can easily be written in both of the above forms:"
   ]
  },
  {
   "cell_type": "code",
   "execution_count": 1,
   "metadata": {
    "collapsed": true
   },
   "outputs": [],
   "source": [
    "import numpy\n",
    "\n",
    "def cost( y ):\n",
    "    return numpy.square(y)\n",
    "\n",
    "def g( x, a, b ):\n",
    "    return cost( numpy.dot( a, x ) - b )\n",
    "\n",
    "def f( x, A, B ):\n",
    "    return numpy.sum( ( g(x,a,b) for a, b in zip( A, B ) ) )[0]\n",
    "\n",
    "def f_batch( x, A, B ):\n",
    "    return numpy.sum( numpy.square( numpy.dot( A, x ) - B ) )"
   ]
  },
  {
   "cell_type": "markdown",
   "metadata": {},
   "source": [
    "> Note that in the above formulation, $a_i$ and $b_i$ denote the $i^{th}$ rows of $A$ and $B$, respectively.\n",
    "\n",
    "Next, we need to create the data that we will be optimizing (that is, the $A$ and $B$ matrices), along with the initial guess $x_0$ that we will use when optimizing. We aren't working from a real problem, so we are going to just randomly generate this data:"
   ]
  },
  {
   "cell_type": "code",
   "execution_count": 2,
   "metadata": {},
   "outputs": [
    {
     "name": "stdout",
     "output_type": "stream",
     "text": [
      "f(x0) : 4429.67615714\n"
     ]
    }
   ],
   "source": [
    "N  = 1000                       # Number of samples\n",
    "n  = 4                          # Dimension of the optimization variable\n",
    "numpy.random.seed(0)            # A seed for the random number generator so that results are reproduceable\n",
    "A  = numpy.random.randn( N, n )\n",
    "B  = numpy.random.randn( N, 1 )\n",
    "x0 = numpy.random.randn( n, 1 )\n",
    "\n",
    "# Just for fun, let's see what our cost function looks like at that initial guess:\n",
    "print( \"f(x0) :\", f( x0, A, B ) )"
   ]
  },
  {
   "cell_type": "markdown",
   "metadata": {},
   "source": [
    "## Scipy"
   ]
  },
  {
   "cell_type": "markdown",
   "metadata": {},
   "source": [
    "Before even getting to Tensorflow, we can try one of Scipy's optimization solvers to see what the solution is, and how fast we can expect to solve a problem like this. \n",
    "\n",
    "> I don't want to dwell on this, or go into detail here because this is how optimizers work in most programming languages, and I assume you have the appropriate background. "
   ]
  },
  {
   "cell_type": "code",
   "execution_count": 3,
   "metadata": {
    "scrolled": true
   },
   "outputs": [
    {
     "name": "stdout",
     "output_type": "stream",
     "text": [
      "  N  :  1000\n",
      "  x  :  [ 0.00350606  0.02388739  0.03444886  0.00796708]\n",
      "f(x) :  994.699061197\n",
      "0.4176 seconds to minimize using Scipy\n"
     ]
    }
   ],
   "source": [
    "import scipy, time\n",
    "from scipy.optimize import minimize\n",
    "\n",
    "# Create the function that we want to optimize with the coefficients embedded \n",
    "func = lambda x : f( x, A, B )\n",
    "\n",
    "# Now optimize the function, recording how long the optimization took\n",
    "startTime = time.time()\n",
    "solution = scipy.optimize.minimize( func, x0 )\n",
    "endTime = time.time()\n",
    "\n",
    "# This optimization method returns a lot of information. \n",
    "# We just want the optimized values\n",
    "x = solution.x\n",
    "print(\"  N  : \", N )\n",
    "print(\"  x  : \", x )\n",
    "print(\"f(x) : \", func(x) )\n",
    "print( round(endTime - startTime, 4), \"seconds to minimize using Scipy\")"
   ]
  },
  {
   "cell_type": "markdown",
   "metadata": {},
   "source": [
    "So that is how you would typically solve an optimization problem using Scipy's solvers. Is this good? bad? Let's not dwell on that right now. Suffice it to say that we have not tuned the optimization method, tolerances, or anything, so I would expect that you could get Scipy to run better simply by choosing some of the optimization parameters more carefully. \n",
    "\n",
    "\n",
    "## Tensorflow\n",
    "Now, let's see how you would do that with Tensorflow... Just so you don't get discouraged, note that this is a bit more involed. But hang with me here...\n",
    "\n",
    "> Also, note that we are going to tackle optimizing the monolithic problem $f(x)$ first, before moving on how to use stochastic gradient descent. \n",
    "\n",
    "To work with Tensorflow, we need to explictly declare which objects are constants and which objects are variables (and hence subject to optimization). "
   ]
  },
  {
   "cell_type": "code",
   "execution_count": 4,
   "metadata": {
    "collapsed": true
   },
   "outputs": [],
   "source": [
    "import tensorflow as tf \n",
    "\n",
    "# Declare which objects are variables, and which objects are constant\n",
    "X = tf.Variable( x0 ) # Variables will be tuned by the optimizer\n",
    "C = tf.constant( A )  # Constants will not be tuned by the optimizer\n",
    "D = tf.constant( B )"
   ]
  },
  {
   "cell_type": "markdown",
   "metadata": {},
   "source": [
    "The first problem that arises is that we can't simply substitute Tensorflow variables and constants into most python functions. Most of the basic python operations are supported by Tensorflow, but operations involving iteration typically aren't:"
   ]
  },
  {
   "cell_type": "code",
   "execution_count": 5,
   "metadata": {},
   "outputs": [
    {
     "name": "stdout",
     "output_type": "stream",
     "text": [
      "Error:  zip argument #1 must support iteration\n",
      "Error:  Dimensions must be equal, but are 1000 and 4 for 'mul' (op: 'Mul') with input shapes: [1000,4], [4,1].\n"
     ]
    }
   ],
   "source": [
    "# Let's see if Tensorflow can evaluate our cost, or whether it will throw an error\n",
    "try:\n",
    "    print( f( X, C, D ) )\n",
    "except Exception as e:\n",
    "    print(\"Error: \", e)\n",
    "    \n",
    "# What about the batch formulation? \n",
    "try:\n",
    "    print( f_batch( X, C, D ) )\n",
    "except Exception as e:\n",
    "    print(\"Error: \", e)"
   ]
  },
  {
   "cell_type": "markdown",
   "metadata": {},
   "source": [
    "So we are left with two choices: \n",
    "\n",
    "1. Either we rewrite our code, or \n",
    "1. We wrap our function with a `py_func`\n",
    "\n",
    "### Rewriting the optimization function with intrinsic Tensorflow methods\n",
    "\n",
    "Depending on how large your function is, it is typically preferrable to rewrite your cost function in terms of Tensorflow functions instead of Numpy functions and iterable operations. The reason is simply that the resulting code will be more performant. So let's see how that would look for our simple example:"
   ]
  },
  {
   "cell_type": "code",
   "execution_count": 6,
   "metadata": {},
   "outputs": [
    {
     "name": "stdout",
     "output_type": "stream",
     "text": [
      "Tensor(\"Sum:0\", shape=(), dtype=float64)\n"
     ]
    }
   ],
   "source": [
    "# This is our original function f written using Tensorflow operations\n",
    "def f_batch_tensorflow( x, A, B ):\n",
    "    e = tf.matmul( A, x ) - B\n",
    "    return tf.reduce_sum( tf.square(e) )\n",
    "\n",
    "fx = f_batch_tensorflow( X, C, D )\n",
    "print(fx)"
   ]
  },
  {
   "cell_type": "markdown",
   "metadata": {},
   "source": [
    "Now if you look at the output of the above code, you see that we don't have any errors. However, one glaring thing should be leaping off the page at this point... \n",
    "\n",
    "*Although we can now use these Tensorflow variables and constants in functions, the output of a function is no longer a value, but an expression for the output value. To actually see what the output value is, we need to evaluate the expression in a **session**.*"
   ]
  },
  {
   "cell_type": "code",
   "execution_count": 7,
   "metadata": {},
   "outputs": [
    {
     "name": "stdout",
     "output_type": "stream",
     "text": [
      "f(x0) : 4429.67615714 according to Tensorflow\n"
     ]
    }
   ],
   "source": [
    "# So far we have an object 'fx' that represents the output of the function f_tensorflow. \n",
    "# To get the value of that object, we need to evaluate it in a session\n",
    "with tf.Session() as sess: \n",
    "    sess.run(tf.global_variables_initializer())\n",
    "    print( \"f(x0) :\", sess.run( fx ), \"according to Tensorflow\" )"
   ]
  },
  {
   "cell_type": "markdown",
   "metadata": {},
   "source": [
    "> A frequent source of error is the forgetting to call \"global_variables_initializer\". The purpose of this call is simply to copy varriables from your python workspace into the Tensorflow space, and (as the name implies) initialize all of our variables. "
   ]
  },
  {
   "cell_type": "markdown",
   "metadata": {},
   "source": [
    "Great. But we still haven't optimized anything. To do that, we have to choose an optimizer, pass our function that we want to optimize, and then run the optimizer in a session. \n",
    "\n",
    "> To see all of the optimizers available to you, I suggest you take a look at https://www.tensorflow.org/api_docs/python/tf/train. Some options are the AdadeltaOptimizer, AdagradOptimizer, AdamOptimizer, FtrlOptimizer, GradientDescentOptimizer, and MomentumOptimizer (to name a few)."
   ]
  },
  {
   "cell_type": "code",
   "execution_count": 8,
   "metadata": {},
   "outputs": [
    {
     "name": "stdout",
     "output_type": "stream",
     "text": [
      "None\n"
     ]
    }
   ],
   "source": [
    "optimizer = tf.train.AdamOptimizer().minimize(fx)\n",
    "with tf.Session() as sess:\n",
    "    sess.run(tf.global_variables_initializer())\n",
    "    print( sess.run( optimizer ) )"
   ]
  },
  {
   "cell_type": "markdown",
   "metadata": {},
   "source": [
    "Well that is a little confusing... We run the optimizer and we get out a `None` value. Shouldn't we be getting the result? \n",
    "\n",
    "No. \n",
    "\n",
    "Calling `sess.run( optimizer )` runs the optimizer, which updates the variables in the optimization problem (in our case, just `X`). If we want to retrieve the current value of `X`, we need to run that in a session too..."
   ]
  },
  {
   "cell_type": "code",
   "execution_count": 9,
   "metadata": {},
   "outputs": [
    {
     "name": "stdout",
     "output_type": "stream",
     "text": [
      "  N  :  1000\n",
      "  x  :  [[ 0.30872382 -0.73645619 -1.53591988 -0.56125483]]\n",
      "f(x) :  4423.36732558\n"
     ]
    }
   ],
   "source": [
    "with tf.Session() as sess:\n",
    "    sess.run(tf.global_variables_initializer())\n",
    "    sess.run( optimizer )\n",
    "    print(\"  N  : \", N )\n",
    "    print(\"  x  : \", sess.run( X ).T )\n",
    "    print(\"f(x) : \", sess.run( fx ) )"
   ]
  },
  {
   "cell_type": "markdown",
   "metadata": {},
   "source": [
    "Now let's compare with the output of Scipy... Scipy, returned the solution\n",
    "\n",
    "      N  : 1000\n",
    "      x  :  [ 0.00350609  0.02388733  0.0344488   0.00796714]\n",
    "    f(x) :  994.699061197\n",
    "    \n",
    "which is much much smaller than the cost that we got. So what gives? \n",
    "\n",
    "The thing about Tensorflow is that it is designed for large datasets where the optimization can take very long. Therefore the optimizers only perform one iteration at a time. It is intended that you monitor how the loss function and parameter vector $X$ change at each iteration, and then decide for yourself when to stop the optimization. Let's set up some of the usual stopping conditions. Specifically, we are going to stop if:\n",
    "\n",
    "1. The number of iterations exceeds some predefined limit\n",
    "1. The change in the cost function is less than some predefined value"
   ]
  },
  {
   "cell_type": "code",
   "execution_count": 10,
   "metadata": {},
   "outputs": [
    {
     "name": "stdout",
     "output_type": "stream",
     "text": [
      "  N  :  1000\n",
      "  x  :  [[ 0.30972382 -0.73745619 -1.53691988 -0.56225483]]\n",
      "f(x) :  994.699085995\n",
      "2.0726 seconds to minimize using Tensorflow\n"
     ]
    }
   ],
   "source": [
    "# Reset the optimization variable here so that we start the optimization from the same starting point\n",
    "X = tf.Variable( x0 )\n",
    "\n",
    "# Put a wrapper around tensorflow that will handle the stopping conditions\n",
    "def tf_minimize( func, output = None, costTol = 1e-4, maxIts = 10000, blockSize = 100, learning_rate = None, device = 'gpu' ):\n",
    "\n",
    "    cost    = 1e10\n",
    "    oldcost = cost + 2 * costTol\n",
    "    its     = 0\n",
    "    with tf.Session() as sess:\n",
    "        with tf.device('/' + device + ':0'):\n",
    "\n",
    "            # Now create the optimizer\n",
    "            if learning_rate:\n",
    "                optimizer = tf.train.AdamOptimizer(learning_rate).minimize(func)\n",
    "            else: \n",
    "                optimizer = tf.train.AdamOptimizer().minimize(func)\n",
    "\n",
    "            # Initialize all of the variables in the tensorflow workspace\n",
    "            sess.run(tf.global_variables_initializer())\n",
    "\n",
    "            # Now look, checking that we haven't hit the stopping conditions\n",
    "            while cost < oldcost and oldcost - cost > costTol and its < maxIts:\n",
    "                for i in range(blockSize):\n",
    "                    sess.run( optimizer )\n",
    "                oldcost = cost\n",
    "                cost = sess.run(func)\n",
    "                its += blockSize\n",
    "\n",
    "            if output:\n",
    "                return cost, sess.run( output ), its\n",
    "            else:\n",
    "                return cost, its\n",
    "            \n",
    "# Run the optimizer\n",
    "startTime = time.time()\n",
    "costx, x, its = tf_minimize( fx, output = X )\n",
    "endTime = time.time()\n",
    "print(\"  N  : \", N )\n",
    "print(\"  x  : \", x.T )\n",
    "print(\"f(x) : \", costx )\n",
    "print( round(endTime - startTime, 4 ), \"seconds to minimize using Tensorflow\")"
   ]
  },
  {
   "cell_type": "markdown",
   "metadata": {},
   "source": [
    "So slower than Scipy out of the gate? \n",
    "\n",
    "Well not so fast... \n",
    "\n",
    "Part of the problem here is that Tensorflow's optimizers are relatively dumb. They are performing some optimization that is only marginally smarter than gradient descent, so you have to give them a little bit of help. Specifically, when you create the optimizer, you set a fixed learning rate that is baked into the optimizer. Furthermore, this default learning rate appears to be too small for the problem at hand. If we just increase that learning rate a little bit, we see performance much closer to Scipy:"
   ]
  },
  {
   "cell_type": "code",
   "execution_count": 11,
   "metadata": {},
   "outputs": [
    {
     "name": "stdout",
     "output_type": "stream",
     "text": [
      "  N  :  1000\n",
      "  x  :  [[ 0.30972382 -0.73745619 -1.53691988 -0.56225483]]\n",
      "f(x) :  994.699061197\n",
      "0.2589 seconds to minimize using Tensorflow\n"
     ]
    }
   ],
   "source": [
    "# Run the optimizer with a larger learning rate\n",
    "startTime = time.time()\n",
    "costx, x, its = tf_minimize( fx, output = X, learning_rate = 1 )\n",
    "endTime = time.time()\n",
    "print(\"  N  : \", N )\n",
    "print(\"  x  : \", x.T )\n",
    "print(\"f(x) : \", costx )\n",
    "print( round(endTime - startTime, 4 ), \"seconds to minimize using Tensorflow\")"
   ]
  },
  {
   "cell_type": "markdown",
   "metadata": {},
   "source": [
    "### Larger Datasets\n",
    "\n",
    "Next, for the sake of argument, let's try increasing the size of the dataset and reoptimizing:"
   ]
  },
  {
   "cell_type": "code",
   "execution_count": 12,
   "metadata": {},
   "outputs": [
    {
     "name": "stdout",
     "output_type": "stream",
     "text": [
      "  x  :  [ 0.02021202 -0.00563212  0.01110649  0.00634589]\n",
      "f(x) :  9921.52770949\n",
      "12.6023 seconds to minimize using Scipy\n",
      "\n",
      "  x  :  [[ 0.02021196 -0.00563217  0.01110651  0.00634575]]\n",
      "f(x) :  9921.52770949\n",
      "0.2728 seconds to minimize using Tensorflow\n"
     ]
    }
   ],
   "source": [
    "Nnew  = N * 10                  # Number of samples\n",
    "nnew  = n * 1                   # Dimension of the optimization variable\n",
    "numpy.random.seed(0)            # A seed for the random number generator so that results are reproduceable\n",
    "A  = numpy.random.randn( Nnew, nnew )\n",
    "B  = numpy.random.randn( Nnew, 1 )\n",
    "x0 = numpy.random.randn( nnew, 1 )\n",
    "\n",
    "# Scipy\n",
    "func = lambda x : f( x, A, B )\n",
    "startTime = time.time()\n",
    "solution = scipy.optimize.minimize( func, x0 )\n",
    "endTime = time.time()\n",
    "x = solution.x\n",
    "print(\"  x  : \", x )\n",
    "print(\"f(x) : \", func(x) )\n",
    "print( round(endTime - startTime, 4), \"seconds to minimize using Scipy\")\n",
    "print()\n",
    "\n",
    "# Tensorflow\n",
    "X = tf.Variable( x0 )\n",
    "C = tf.constant( A )\n",
    "D = tf.constant( B )\n",
    "fx = f_batch_tensorflow( X, C, D )\n",
    "\n",
    "startTime = time.time()\n",
    "costx, x, its = tf_minimize( fx, output = X, learning_rate = 1 )\n",
    "endTime = time.time()\n",
    "print(\"  x  : \", x.T )\n",
    "print(\"f(x) : \", costx )\n",
    "print( round(endTime - startTime, 4 ), \"seconds to minimize using Tensorflow\")"
   ]
  },
  {
   "cell_type": "markdown",
   "metadata": {},
   "source": [
    "Curiously, the runtime for Scipy is scaling with the size of the dataset, but the Tensorflow runtime remains flat. Awesome. \n",
    "\n",
    "> Note that your mileage will vary here depending on whether you are using a CPU or GPU, and the performance of your device."
   ]
  },
  {
   "cell_type": "markdown",
   "metadata": {
    "collapsed": true
   },
   "source": [
    "## Tensorflow with native Python methods\n",
    "\n",
    "At this point, you might be thinking that this all looks well and good, but you don't want to modify your functions just so that you can optimize them with Tensorflow... Well, if that is you, then I have good news... you don't have to. \n",
    "\n",
    "First, I will introduce a utility method. You do not have to understand what exactly is going on here, but suffice it to say that it is converting a Python function into one that can be used directly by Tensorflow. The caveat is that the function you want o convert must return both the function value and its Jacobian:"
   ]
  },
  {
   "cell_type": "code",
   "execution_count": 13,
   "metadata": {
    "collapsed": true
   },
   "outputs": [],
   "source": [
    "from tensorflow.python.framework import ops\n",
    "import time\n",
    "\n",
    "def toTensorflow(func, x, name, dtype=tf.float64, stateful=False):\n",
    "    '''\n",
    "    :param func: A function that returns its value and the gradient.\n",
    "    '''\n",
    "    # Generate a unique name\n",
    "    gradient_name = 'gradient' + str(time.time())\n",
    "\n",
    "    with ops.name_scope(None, name, [x]) as name:\n",
    "        \n",
    "        # Create a lambda that returns the gradient, and then register it\n",
    "        grad = lambda op, grad, grad_grad: grad * op.outputs[1]\n",
    "        tf.RegisterGradient(gradient_name)(grad)\n",
    "\n",
    "        # Finally, wrap our function with in a py_func\n",
    "        with tf.get_default_graph().gradient_override_map({\"PyFunc\": gradient_name, \"PyFuncStateless\": gradient_name}):\n",
    "            return tf.py_func(func, [x], [dtype, dtype], stateful=stateful, name=name)[0]"
   ]
  },
  {
   "cell_type": "markdown",
   "metadata": {},
   "source": [
    "So, for instance, we previously optimized the function `f` in Scipy, but we showed that we couldn't evaluate the expression in Tensorflow. We are going to remedy that here. \n",
    "\n",
    "First, we need to define a function that returns the cost as well as the derivative of the cost:"
   ]
  },
  {
   "cell_type": "code",
   "execution_count": 14,
   "metadata": {
    "collapsed": true
   },
   "outputs": [],
   "source": [
    "def f_df( x, A, B ):\n",
    "    e = numpy.dot(A, x) - B\n",
    "    return numpy.sum( numpy.square(e) ), numpy.dot(A.T, e)"
   ]
  },
  {
   "cell_type": "markdown",
   "metadata": {},
   "source": [
    "With that out of the way, we can now convert our Python function to Tensorflow and run it directly:"
   ]
  },
  {
   "cell_type": "code",
   "execution_count": 15,
   "metadata": {},
   "outputs": [
    {
     "name": "stdout",
     "output_type": "stream",
     "text": [
      "  x  :  [[ 0.02021196 -0.00563217  0.01110651  0.00634575]]\n",
      "f(x) :  9921.52770949\n",
      "0.3915 seconds to minimize using Tensorflow\n"
     ]
    }
   ],
   "source": [
    "def convert_and_run(func_with_gradients, maxits = 10000):\n",
    "\n",
    "    # Reset the optimization variable\n",
    "    X = tf.Variable( x0 )\n",
    "\n",
    "    # Now convert the function to be comptabile with tensorflow\n",
    "    f_tensorflow = toTensorflow( func_with_gradients, X, \"my_cost\" )\n",
    "\n",
    "    # Run the optimizer\n",
    "    startTime = time.time()\n",
    "    costx, x, its = tf_minimize( f_tensorflow, output = X, learning_rate = 1 )\n",
    "    endTime = time.time()\n",
    "    print(\"  x  : \", x.T )\n",
    "    print(\"f(x) : \", costx )\n",
    "    print( round(endTime - startTime, 4 ), \"seconds to minimize using Tensorflow\")\n",
    "\n",
    "convert_and_run( lambda x : f_df( x, A, B ) )"
   ]
  },
  {
   "cell_type": "markdown",
   "metadata": {
    "collapsed": true
   },
   "source": [
    "### Look mom, no gradients!\n",
    "\n",
    "Perhaps these results are a bit surprsing. Perhaps not. But everybody that has worked with optimization before knows that an absolute deal-breaker in the above code is that it requires that we know the gradient of the cost function. This is not so easy for most problems. \n",
    "\n",
    "The work-around, as with most optimization scenarios, is to see if we can drop in numerical differentiation as a replacement. And sure enough, after Googling around, it seems that there are two python functions that are commonly used:\n",
    "\n",
    "1. `numdifftools.core.Jacobian`\n",
    "1. `scipy.optimize.approx_fprime`\n",
    "\n",
    "Let's try both of those:"
   ]
  },
  {
   "cell_type": "code",
   "execution_count": 16,
   "metadata": {},
   "outputs": [
    {
     "name": "stdout",
     "output_type": "stream",
     "text": [
      "numdifftools.core.Jacobian  : \n",
      " [[  1326.69931344]\n",
      " [ 33261.25106713]\n",
      " [-32605.07592774]\n",
      " [-12598.00613771]]\n",
      "-------------\n",
      "scipy.optimize.approx_fprime: \n",
      " [[  1.38295899e+13]\n",
      " [  1.38295899e+13]\n",
      " [  1.38295899e+13]\n",
      " [  1.38295899e+13]]\n",
      "-------------\n"
     ]
    }
   ],
   "source": [
    "from numdifftools.core import Jacobian\n",
    "from scipy.optimize import approx_fprime\n",
    "\n",
    "func = lambda x : numpy.sum( ( numpy.dot( A, x ) - B )**2 )\n",
    "\n",
    "j1 = lambda x : Jacobian( func )(x).reshape( x.shape )\n",
    "\n",
    "epsilon = numpy.sqrt(numpy.finfo(float).eps)\n",
    "j2 = lambda x : approx_fprime(x, func, epsilon ).reshape( x.shape )\n",
    "\n",
    "print(\"numdifftools.core.Jacobian  : \\n\", j1(x0))\n",
    "print(\"-------------\")\n",
    "print(\"scipy.optimize.approx_fprime: \\n\", j2(x0)) # Something is really wrong here \n",
    "print(\"-------------\")"
   ]
  },
  {
   "cell_type": "markdown",
   "metadata": {},
   "source": [
    "I am not sure exactly what is going on here, but the Scipy output looks just wrong. The Jacobian shouldn't just be a really large constant vector. \n",
    "\n",
    "On the other hand, the numdifftool Jacobians appear reasonable, so let's try optimizing with those: "
   ]
  },
  {
   "cell_type": "code",
   "execution_count": 17,
   "metadata": {},
   "outputs": [
    {
     "name": "stdout",
     "output_type": "stream",
     "text": [
      "  x  :  [[ 0.02021196 -0.00563217  0.01110651  0.00634575]]\n",
      "f(x) :  9921.52770949\n",
      "3.3698 seconds to minimize using Tensorflow\n"
     ]
    }
   ],
   "source": [
    "convert_and_run( lambda x : ( func(x), j1(x) ) )"
   ]
  },
  {
   "cell_type": "markdown",
   "metadata": {},
   "source": [
    "Nice... a working example using Tensorflow with some numerical differentiation scheme. Of course we take a performance hit here, but at least we get the same output, and we don't have to know the Jacobian *a priori*."
   ]
  },
  {
   "cell_type": "markdown",
   "metadata": {},
   "source": [
    "### Automatic differentiation\n",
    "\n",
    "The last thing I want you to ponder here is why we need to explictly provide a gradient to Tensorflow. In the pure-Tensorflow implementation, we didn't need to provide gradients, so why do we need to do it now? \n",
    "\n",
    "The answer is simply that Tensorflow DOES require gradients. In fact, it is a core part of how Tensorflow works. However, when you build a Tensorflow function, behind the scenes, it is also building a function that computes its derivative. You could think of it as a symbolic representation that is being built as you compile your function. That way, when we run our function, the gradients are computed explictly, without having to resort to numerical differentiation. \n",
    "\n",
    "So the question is... can we do something like that with our pure-python code? \n",
    "\n",
    "Fortunately, there is a package `autograd` that does this for you, as long as you are using numpy functions (which is commonly the case). The catch (and this is very important to get the code working at full speed), is that you need to import numpy from `autograd`... "
   ]
  },
  {
   "cell_type": "code",
   "execution_count": 18,
   "metadata": {},
   "outputs": [
    {
     "name": "stdout",
     "output_type": "stream",
     "text": [
      "  x  :  [[ 0.02021196 -0.00563217  0.01110651  0.00634575]]\n",
      "f(x) :  9921.52770949\n",
      "0.4651 seconds to minimize using Tensorflow\n"
     ]
    }
   ],
   "source": [
    "from autograd import numpy as autograd_numpy\n",
    "from autograd import grad\n",
    "\n",
    "func = lambda x : autograd_numpy.sum( autograd_numpy.square( autograd_numpy.dot( A, x ) - B ) )\n",
    "jacob = grad(func)\n",
    "convert_and_run( lambda x : ( func(x), jacob(x) ) )"
   ]
  },
  {
   "cell_type": "markdown",
   "metadata": {},
   "source": [
    "Again, we should not expect this work as fast as the pure Tensorflow code, but we should be able to get pretty close because this code is NOT doing numerical differentiation. Rather, we have created a precompiled expression for the jacobian of our function.  "
   ]
  },
  {
   "cell_type": "markdown",
   "metadata": {},
   "source": [
    "## Big Data\n",
    "\n",
    "Hopefully by now you have some feel for how you might use Tensorflow to optimize some monolithic problem. Now let's look at how you would deal with a problem that is simply too big to fit in memory. \n",
    "\n",
    "Specifically, recall that we are trying to solve the regression problem\n",
    "\n",
    "$$\\min\\limits_{x} \\hspace{1ex} \\left\\| A x - B \\right\\|^2 $$\n",
    "\n",
    "which can be written as \n",
    "\n",
    "$$\\min\\limits_{x} \\hspace{1ex} \\sum\\limits_{i=1}^{N} \\hspace{1ex} \\left( a_{i} x - b_{i} \\right)^2 $$\n",
    "\n",
    "where $a_{i}$ and $b_{i}$ denote the $i^{th}$ rows of some matrices $A$ and $B$. Or more generally, you could say we are trying to solve \n",
    "\n",
    "$$\\min\\limits_{x} \\hspace{1ex} \\sum\\limits_{i=1}^{N} \\hspace{1ex} g(x,a_{i}) $$"
   ]
  },
  {
   "cell_type": "markdown",
   "metadata": {},
   "source": [
    "The problem is that as we get more and more data, eventually we won't be able to fit it all into memory. That means that we won't be able to use Scipy or Tensorflow to optimize this function using the techniques that we previously presented. Instead, we will have to use *stochastic gradient descent*, which is widely used in the machine learning community. Here are the core principles:\n",
    "\n",
    "* We can't fit all of the data into memory, so we will break the data up from one monolithic problem of size `N` into `p` smaller problems of size $<=$`batch_size`, where `p = N / batch_size` (+/- 1 depending on whether `N` is divisible by `batch_size`). \n",
    "* Ideally, each of these batches is representative of the larger dataset, so that optimizing a subset moves us closer to the minimum of the entire dataset.\n",
    "* We squentially solve the optimization for each of these batches, letting the optimizer keep running tallies of gradients, hessians, etc. (if it wants) between each of these solutions. Doing so lets us retain information about the whole dataset, even though we are just optimizing a subset. \n",
    "* We don't want each iteration to look the same (otherwise, the solution may just oscillate between the same values). Hence at the beginning of each iteration, we randomly shuffle the data before splitting up the problem into smaller datasets. \n",
    "\n",
    "> Note that although we would like to get to the global minimizer of the optimization problem, stochastic gradient descent does not do this. The reason is that for most machine learning problems, the datasets are so huge that even computing the cost over the whole dataset might take unreasonably long. Instead, the goal really is just to try to get close to a minimizer. Then, if it is possible for your problem, you could try using a method which would get you to a local minimizer from there."
   ]
  },
  {
   "cell_type": "markdown",
   "metadata": {},
   "source": [
    "In psuedocode, that leaves us with an optimization method like:\n",
    "\n",
    "    def minimize( func, N, feeder, block_size,  batch_size ):\n",
    "\n",
    "        with tf.Session() as sess:\n",
    "\n",
    "            # Create the optimizer and initialize variables\n",
    "            optimizer = ...\n",
    "            sess.run(tf.global_variables_initializer())\n",
    "            \n",
    "            # Create a list of indices for the number of datapoints. We reshuffle this in each iteration\n",
    "            inds = list(range(N))\n",
    "\n",
    "            # Loop until converged\n",
    "            while not converged:\n",
    "\n",
    "                # Block size defines how many times to loop over the whole data before rechecking convergence \n",
    "                for i in range(block_size):\n",
    "\n",
    "                    # At each iteration, shuffle the data\n",
    "                    random.shuffle(inds)\n",
    "\n",
    "                    # Batch size defines the size of the smaller optimization problems \n",
    "                    for offset in range(0, N, batch_size):\n",
    "                    \n",
    "                        # Presumably we have a method, feeder, which returns the required feedDict \n",
    "                        # with the data at the specified indices\n",
    "                        feedDict = feeder( inds[offset:offset+batch_size] )\n",
    "                        \n",
    "                        # TODO... Somehow tell the optimizer to just optimize this subset of data \n",
    "                        sess.run( optimizer, feedDict )"
   ]
  },
  {
   "cell_type": "markdown",
   "metadata": {},
   "source": [
    "Until now, we have explained everything you need to know to be able to implement this pseudocode EXCEPT how to create some sort of placeholder for the data so that we can just optimize over a subset of the data. \n",
    "\n",
    "Previously, you will note that we created our optimization functions by creating a Tensorflow constant from our raw python data. For instance, when we were using the intrinsic Tensorflow functions, we had something like:\n",
    "\n",
    "    x0 = numpy.random.randn( n, 1 )\n",
    "    A  = numpy.random.randn( N, n )\n",
    "    B  = numpy.random.randn( N, 1 )\n",
    "    \n",
    "    X = tf.Variable( x0 )\n",
    "    C = tf.constant( A )\n",
    "    D = tf.constant( B )\n",
    "    fx = f_batch_tensorflow( X, C, D )\n",
    "\n",
    "The problem with this method is that it bakes those python matrices `A` and `B` directly into the function, leaving us no way of changing those values later. If we are going to be dealing with small subsets of data, and shuffle the data at each iteration, that means we would need to create millions of small optimization objects... Not very efficient. \n",
    "\n",
    "Fortunately, Tensorflow has a convenient construct for this particular use case, aptly called a `placeholder`. Instead of hard-coding some constants into the optimization problem, the placeholder will approximately define the shape of the object to expect in a function. The missing parameters must then be passed in to the `Session.run()` call using what is called a *feed dictionary*. Instead of describing this is words, let's see how that looks in code with a simple example: "
   ]
  },
  {
   "cell_type": "code",
   "execution_count": 19,
   "metadata": {},
   "outputs": [
    {
     "name": "stdout",
     "output_type": "stream",
     "text": [
      "[[ 4.  4.  4.  4.  4.]\n",
      " [ 4.  4.  4.  4.  4.]]\n",
      "------------\n",
      "[[ 1.]\n",
      " [ 1.]\n",
      " [ 1.]\n",
      " [ 1.]]\n"
     ]
    }
   ],
   "source": [
    "import tensorflow as tf\n",
    "\n",
    "# Define placeholders for the matrix A and x in the product A * x\n",
    "# Note that the value of `None` may only be used for one dimension, and will be inferred from the size of input\n",
    "p = 4\n",
    "Ap = tf.placeholder(tf.float64, shape=(None, p))\n",
    "Xp = tf.placeholder(tf.float64, shape=(p, None))\n",
    "AX = tf.matmul( Ap, Xp )\n",
    "\n",
    "# At this point, AX represents a general matrix product where the inner dimension is p. \n",
    "# The other dimensions can be anything\n",
    "with tf.Session() as sess:\n",
    "\n",
    "    # Now create some \"real\" values to use in the matrix product. \n",
    "    # Note that the inner dimension 'p' is fixed, but the other dimensions are arbitrary\n",
    "    ap = numpy.ones( (2, p) )\n",
    "    xp = numpy.ones( (p, 5) )\n",
    "    print( sess.run( AX, { Ap : ap, Xp : xp } ) )\n",
    "    print('------------')\n",
    "    \n",
    "    ap = numpy.eye(p)\n",
    "    xp = numpy.ones( (p, 1) )\n",
    "    print( sess.run( AX, { Ap : ap, Xp : xp } ) )"
   ]
  },
  {
   "cell_type": "markdown",
   "metadata": {},
   "source": [
    "Hopefully that little snippet tells you what the placeholder is doing... Now let's see how we plan to use it. \n",
    "\n",
    "In stochastic gradient descent, it doesn't make sense to check convergence of the cost function like before because the cost function can increase with time. Hence here we just want to run a few iterations to show you how the cost function behaves in sub-iterations, and across entire iterations.  \n",
    "\n",
    "> We are showing the average cost per subiteration because the size of the dataset can be different in the subiterations. Specifically, the last subiteration might have less data than the others. \n",
    "\n",
    "\n",
    "> The following code is definitely not something you want to do in production. You should try to minimize the amount of data that must be copied between the CPU and GPU, and all of the logging below creates a lot of extra copies that need to be made. "
   ]
  },
  {
   "cell_type": "code",
   "execution_count": 20,
   "metadata": {
    "collapsed": true
   },
   "outputs": [],
   "source": [
    "def tf_minimize_sgd( func, feeder, N, maxIts = 20, learning_rate = None, \n",
    "                     device = 'gpu', blockSize = 1, batch_size = 100 ):\n",
    "\n",
    "    its = 0\n",
    "    with tf.Session() as sess:\n",
    "        with tf.device('/' + device + ':0'):\n",
    "\n",
    "            # Now create the optimizer\n",
    "            if learning_rate:\n",
    "                optimizer = tf.train.AdamOptimizer(learning_rate).minimize(func)\n",
    "            else: \n",
    "                optimizer = tf.train.AdamOptimizer().minimize(func)\n",
    "\n",
    "            # Initialize all of the variables in the tensorflow workspace\n",
    "            sess.run(tf.global_variables_initializer())\n",
    "\n",
    "            # Create a list of indices for the number of datapoints. We reshuffle this in each iteration\n",
    "            inds = list(range(N))\n",
    "            \n",
    "            # Sub-iteration and per-iteration costs  \n",
    "            subit_costs = [] \n",
    "            it_costs    = []\n",
    "            \n",
    "            # Now loop, checking that we haven't hit the stopping conditions\n",
    "            while its < maxIts:\n",
    "                \n",
    "                # Block size defines how many times to loop over the whole data \n",
    "                for i in range(blockSize):\n",
    "                    \n",
    "                    # At each iteration, shuffle the data\n",
    "                    numpy.random.shuffle(inds)\n",
    "                    \n",
    "                    # Batch size defines the size of the smaller optimization problems \n",
    "                    for offset in range(0, N, batch_size):\n",
    "                    \n",
    "                        selection = inds[offset:offset+batch_size]\n",
    "                        feedDict = feeder( selection )\n",
    "                        sess.run( optimizer, feedDict )\n",
    "                        subit_costs.append( sess.run( func, feedDict ) / len(selection) )\n",
    "                \n",
    "                    # Compute the total cost at the end of this iteration\n",
    "                    cost = 0\n",
    "                    for offset in range(0, N, batch_size):\n",
    "                        feedDict = feeder( inds[offset:offset+batch_size] )\n",
    "                        cost += sess.run( func, feedDict )\n",
    "                    it_costs.append( cost / N )\n",
    "                its += blockSize\n",
    "            return subit_costs, it_costs"
   ]
  },
  {
   "cell_type": "markdown",
   "metadata": {},
   "source": [
    "The final piece of the puzzle is to define placeholders in our regression example, and then introduce a function which generates the feed dictionaries for us. For the regression example that we have been working, that would look like: "
   ]
  },
  {
   "cell_type": "code",
   "execution_count": 21,
   "metadata": {},
   "outputs": [
    {
     "name": "stdout",
     "output_type": "stream",
     "text": [
      "3.602 seconds to minimize using Tensorflow\n"
     ]
    }
   ],
   "source": [
    "# Define placeholders for the data \n",
    "C  = tf.placeholder(tf.float64, shape=(None, A.shape[1]), name='Cmatrix')\n",
    "D  = tf.placeholder(tf.float64, shape=(None, B.shape[1]), name='Bmatrix')\n",
    "\n",
    "# Reset the optimization variable and redefine the optimization function\n",
    "X = tf.Variable( x0 )\n",
    "fx = f_batch_tensorflow( X, C, D )\n",
    "\n",
    "# Create the feed dictionary generator\n",
    "def feeder(inds, A, B, C, D ): \n",
    "    return { C : A[inds,:], D : B[inds,:] }\n",
    "\n",
    "# Run the optimizer\n",
    "startTime = time.time()\n",
    "subit_costs, it_costs = tf_minimize_sgd( fx, feeder = lambda x : feeder( x, A, B, C, D ), N = A.shape[0], learning_rate = 1 )\n",
    "endTime = time.time()\n",
    "print( round(endTime - startTime, 4 ), \"seconds to minimize using Tensorflow\")"
   ]
  },
  {
   "cell_type": "code",
   "execution_count": 22,
   "metadata": {},
   "outputs": [
    {
     "data": {
      "image/png": "[encoded data removed]",
      "text/plain": [
       "<matplotlib.figure.Figure at 0x2c0eef05e10>"
      ]
     },
     "metadata": {},
     "output_type": "display_data"
    }
   ],
   "source": [
    "import matplotlib.pyplot as plt \n",
    "%matplotlib inline\n",
    "\n",
    "fig, axes = plt.subplots( 1, 2, figsize = (15,5) );\n",
    "\n",
    "axes[0].plot( subit_costs );\n",
    "axes[0].set_xlabel(\"Sub-iteration\");\n",
    "axes[0].set_ylabel(\"Average cost\");\n",
    "axes[0].set_ylim((0,5));\n",
    "\n",
    "axes[1].plot( it_costs );\n",
    "axes[1].set_xlabel(\"Iteration\");\n",
    "axes[1].set_ylabel(\"Average cost\");\n",
    "axes[1].set_ylim((0,5));"
   ]
  },
  {
   "cell_type": "markdown",
   "metadata": {},
   "source": [
    "What you can see is that after one complete iteration, the optimization seems to have reached what might be described as the \"noise floor\". That is, without increasing the batch sizes, we will always see this sort of oscillation about some local minimizer with stochastic gradient descent because it is never actually computing the cost function across all of the data. Hence it does a great job of getting you right up to the local minimizer, although you will need a more complete solution which computes the cost across the whole dataset to take you the last mile. "
   ]
  },
  {
   "cell_type": "markdown",
   "metadata": {},
   "source": [
    "## Summary\n",
    "\n",
    "In this notebook, we compared Scipy's optimizers with a simple Tensorflow implementation. The point was not to do an extensive comparison, but rather, simply to get a first look into how you would optimize a function with both packages. What seems to be the case out-of-the box is that the Scipy implementation scales poorly with the size of the problem, while the Tensorflow implementation does not. However, as we show, the Scipy implementation can be used out-of-the box, while the Tensorflow implementation requires one to either rewrite their function in terms of Tensorflow intrinsics, or by providing a function along with its derivatives. In the latter case, we showed how one would do so using numerical differentiation and automatic differentiation. Finally, we showed how to use Tensorflow to ist fullest potential by showing how you would use stochastic gradient descent. "
   ]
  },
  {
   "cell_type": "code",
   "execution_count": null,
   "metadata": {
    "collapsed": true
   },
   "outputs": [],
   "source": []
  }
 ],
 "metadata": {
  "anaconda-cloud": {},
  "kernelspec": {
   "display_name": "Python 3",
   "language": "python",
   "name": "python3"
  },
  "language_info": {
   "codemirror_mode": {
    "name": "ipython",
    "version": 3
   },
   "file_extension": ".py",
   "mimetype": "text/x-python",
   "name": "python",
   "nbconvert_exporter": "python",
   "pygments_lexer": "ipython3",
   "version": "3.6.2"
  }
 },
 "nbformat": 4,
 "nbformat_minor": 2
}
